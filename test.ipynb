{
 "cells": [
  {
   "cell_type": "code",
   "execution_count": 12,
   "metadata": {},
   "outputs": [],
   "source": [
    "import pandas as pd\n",
    "import psycopg2\n",
    "from psycopg2 import sql\n",
    "import numpy as np\n",
    "from io import StringIO"
   ]
  },
  {
   "cell_type": "code",
   "execution_count": 13,
   "metadata": {},
   "outputs": [],
   "source": [
    "class Database:\n",
    "    def __init__(self, DB_USER, DB_PASS, DB_NAME, DB_HOST, DB_PORT) -> None:\n",
    "        self.conn = psycopg2.connect(database=DB_NAME,\n",
    "                            user=DB_USER,\n",
    "                            password=DB_PASS,\n",
    "                            host=DB_HOST,\n",
    "                            port=DB_PORT)\n",
    "        self.cur = self.conn.cursor()\n",
    "        \n",
    "    def execute_dql(self, query):\n",
    "        try:\n",
    "            self.cur.execute(query)\n",
    "            rows = self.cur.fetchall()\n",
    "            columns = [desc[0] for desc in self.cur.description]\n",
    "            return rows, columns \n",
    "        except (Exception, psycopg2.DatabaseError) as error:\n",
    "            print(f\"An error occurred: {error}\")\n",
    "            self.conn.rollback()  \n",
    "            return False\n",
    "        \n",
    "    def execute_dml(self, query):\n",
    "        try:\n",
    "            self.cur.execute(query)\n",
    "            self.conn.commit()\n",
    "            return True\n",
    "        except (Exception, psycopg2.DatabaseError) as error:\n",
    "            print(f\"An error occurred: {error}\")\n",
    "            self.conn.rollback()  \n",
    "            return False\n",
    "        \n",
    "    def copy_from_dataframe(self, df, table_name):\n",
    "        try:\n",
    "            buffer = StringIO()\n",
    "            df.to_csv(buffer, sep=';', index=False, header=False)\n",
    "            buffer.seek(0)\n",
    "            self.cur.copy_expert(f\"COPY {table_name} FROM STDIN WITH (FORMAT csv, DELIMITER ';');\", buffer)\n",
    "            self.conn.commit()\n",
    "            print(\"Data copied successfully!\")\n",
    "        except (Exception, psycopg2.DatabaseError) as error:\n",
    "            print(f\"An error occurred during COPY: {error}\")\n",
    "            self.conn.rollback()\n",
    "            return False\n",
    "        \n",
    "    def close(self):\n",
    "        if self.cur:\n",
    "            self.cur.close()\n",
    "        if self.conn:\n",
    "            self.conn.close()"
   ]
  },
  {
   "cell_type": "code",
   "execution_count": 14,
   "metadata": {},
   "outputs": [],
   "source": [
    "from dotenv import load_dotenv\n",
    "import os\n",
    "\n",
    "load_dotenv()\n",
    "\n",
    "db_user = os.getenv('DB_USER')\n",
    "db_password = os.getenv('DB_PASSWORD')\n",
    "db_name = os.getenv('DB_NAME')\n",
    "db_host = os.getenv('DB_HOST')\n",
    "db_port = os.getenv('DB_PORT')\n",
    "\n",
    "database = Database(db_user, db_password, db_name, db_host, db_port)"
   ]
  },
  {
   "cell_type": "code",
   "execution_count": 16,
   "metadata": {},
   "outputs": [
    {
     "data": {
      "text/plain": [
       "ME_CODE              object\n",
       "ME_PERIOD    datetime64[ns]\n",
       "ME_VAL              float64\n",
       "dtype: object"
      ]
     },
     "execution_count": 16,
     "metadata": {},
     "output_type": "execute_result"
    }
   ],
   "source": [
    "input_df = pd.read_excel(\"./FileMEV.xlsx\")\n",
    "input_df.dtypes"
   ]
  },
  {
   "cell_type": "code",
   "execution_count": 15,
   "metadata": {},
   "outputs": [
    {
     "name": "stdout",
     "output_type": "stream",
     "text": [
      "An error occurred: relation \"mev_table\" already exists\n",
      "\n"
     ]
    },
    {
     "data": {
      "text/plain": [
       "False"
      ]
     },
     "execution_count": 15,
     "metadata": {},
     "output_type": "execute_result"
    }
   ],
   "source": [
    "#CREATE INPUT TABLE\n",
    "create_input_table_query = \"\"\"\n",
    "    CREATE TABLE mev_table (\n",
    "        ME_CODE VARCHAR(50),\n",
    "        ME_PERIOD TIMESTAMP,\n",
    "        ME_VAL DOUBLE PRECISION\n",
    "    );\n",
    "\"\"\"\n",
    "\n",
    "database.execute_dml(create_input_table_query)\n"
   ]
  },
  {
   "cell_type": "code",
   "execution_count": null,
   "metadata": {},
   "outputs": [
    {
     "name": "stdout",
     "output_type": "stream",
     "text": [
      "Data copied successfully!\n"
     ]
    }
   ],
   "source": [
    "#COPY XLSX INTO DB\n",
    "database.copy_from_dataframe(input_df, \"mev_table\")"
   ]
  },
  {
   "cell_type": "code",
   "execution_count": 19,
   "metadata": {},
   "outputs": [
    {
     "data": {
      "text/html": [
       "<div>\n",
       "<style scoped>\n",
       "    .dataframe tbody tr th:only-of-type {\n",
       "        vertical-align: middle;\n",
       "    }\n",
       "\n",
       "    .dataframe tbody tr th {\n",
       "        vertical-align: top;\n",
       "    }\n",
       "\n",
       "    .dataframe thead th {\n",
       "        text-align: right;\n",
       "    }\n",
       "</style>\n",
       "<table border=\"1\" class=\"dataframe\">\n",
       "  <thead>\n",
       "    <tr style=\"text-align: right;\">\n",
       "      <th></th>\n",
       "      <th>me_code</th>\n",
       "      <th>me_period</th>\n",
       "      <th>me_val</th>\n",
       "    </tr>\n",
       "  </thead>\n",
       "  <tbody>\n",
       "    <tr>\n",
       "      <th>0</th>\n",
       "      <td>BI7DRR</td>\n",
       "      <td>2021-01-31</td>\n",
       "      <td>3.750000</td>\n",
       "    </tr>\n",
       "    <tr>\n",
       "      <th>1</th>\n",
       "      <td>DPOL_IMP_BCAD</td>\n",
       "      <td>2021-01-31</td>\n",
       "      <td>-6.579436</td>\n",
       "    </tr>\n",
       "    <tr>\n",
       "      <th>2</th>\n",
       "      <td>GDP_GROWTHYOY_BCAD</td>\n",
       "      <td>2021-01-31</td>\n",
       "      <td>0.000000</td>\n",
       "    </tr>\n",
       "    <tr>\n",
       "      <th>3</th>\n",
       "      <td>INF_YOY_BCAD</td>\n",
       "      <td>2021-01-31</td>\n",
       "      <td>1.552765</td>\n",
       "    </tr>\n",
       "    <tr>\n",
       "      <th>4</th>\n",
       "      <td>KURS_BCAD</td>\n",
       "      <td>2021-01-31</td>\n",
       "      <td>14030.000000</td>\n",
       "    </tr>\n",
       "    <tr>\n",
       "      <th>...</th>\n",
       "      <td>...</td>\n",
       "      <td>...</td>\n",
       "      <td>...</td>\n",
       "    </tr>\n",
       "    <tr>\n",
       "      <th>79</th>\n",
       "      <td>DPOL_IMP_BCAD</td>\n",
       "      <td>2022-02-28</td>\n",
       "      <td>25.431587</td>\n",
       "    </tr>\n",
       "    <tr>\n",
       "      <th>80</th>\n",
       "      <td>GDP_GROWTHYOY_BCAD</td>\n",
       "      <td>2022-02-28</td>\n",
       "      <td>0.000000</td>\n",
       "    </tr>\n",
       "    <tr>\n",
       "      <th>81</th>\n",
       "      <td>INF_YOY_BCAD</td>\n",
       "      <td>2022-02-28</td>\n",
       "      <td>2.055440</td>\n",
       "    </tr>\n",
       "    <tr>\n",
       "      <th>82</th>\n",
       "      <td>KURS_BCAD</td>\n",
       "      <td>2022-02-28</td>\n",
       "      <td>14367.000000</td>\n",
       "    </tr>\n",
       "    <tr>\n",
       "      <th>83</th>\n",
       "      <td>OIL_WTI_BCAD</td>\n",
       "      <td>2022-02-28</td>\n",
       "      <td>78.220000</td>\n",
       "    </tr>\n",
       "  </tbody>\n",
       "</table>\n",
       "<p>84 rows × 3 columns</p>\n",
       "</div>"
      ],
      "text/plain": [
       "               me_code  me_period        me_val\n",
       "0               BI7DRR 2021-01-31      3.750000\n",
       "1        DPOL_IMP_BCAD 2021-01-31     -6.579436\n",
       "2   GDP_GROWTHYOY_BCAD 2021-01-31      0.000000\n",
       "3         INF_YOY_BCAD 2021-01-31      1.552765\n",
       "4            KURS_BCAD 2021-01-31  14030.000000\n",
       "..                 ...        ...           ...\n",
       "79       DPOL_IMP_BCAD 2022-02-28     25.431587\n",
       "80  GDP_GROWTHYOY_BCAD 2022-02-28      0.000000\n",
       "81        INF_YOY_BCAD 2022-02-28      2.055440\n",
       "82           KURS_BCAD 2022-02-28  14367.000000\n",
       "83        OIL_WTI_BCAD 2022-02-28     78.220000\n",
       "\n",
       "[84 rows x 3 columns]"
      ]
     },
     "execution_count": 19,
     "metadata": {},
     "output_type": "execute_result"
    }
   ],
   "source": [
    "#SELECT MEV_TABLE\n",
    "rows, columns = database.execute_dql('SELECT * FROM mev_table;')\n",
    "\n",
    "df = pd.DataFrame(rows, columns=columns)\n",
    "df"
   ]
  },
  {
   "cell_type": "code",
   "execution_count": 20,
   "metadata": {},
   "outputs": [
    {
     "data": {
      "text/html": [
       "<div>\n",
       "<style scoped>\n",
       "    .dataframe tbody tr th:only-of-type {\n",
       "        vertical-align: middle;\n",
       "    }\n",
       "\n",
       "    .dataframe tbody tr th {\n",
       "        vertical-align: top;\n",
       "    }\n",
       "\n",
       "    .dataframe thead th {\n",
       "        text-align: right;\n",
       "    }\n",
       "</style>\n",
       "<table border=\"1\" class=\"dataframe\">\n",
       "  <thead>\n",
       "    <tr style=\"text-align: right;\">\n",
       "      <th></th>\n",
       "      <th>me_code</th>\n",
       "      <th>me_period</th>\n",
       "      <th>me_val</th>\n",
       "    </tr>\n",
       "  </thead>\n",
       "  <tbody>\n",
       "    <tr>\n",
       "      <th>0</th>\n",
       "      <td>BI7DRR</td>\n",
       "      <td>2021-01-31</td>\n",
       "      <td>1.321756</td>\n",
       "    </tr>\n",
       "    <tr>\n",
       "      <th>1</th>\n",
       "      <td>DPOL_IMP_BCAD</td>\n",
       "      <td>2021-01-31</td>\n",
       "      <td>0.000000</td>\n",
       "    </tr>\n",
       "    <tr>\n",
       "      <th>2</th>\n",
       "      <td>GDP_GROWTHYOY_BCAD</td>\n",
       "      <td>2021-01-31</td>\n",
       "      <td>0.000000</td>\n",
       "    </tr>\n",
       "    <tr>\n",
       "      <th>3</th>\n",
       "      <td>INF_YOY_BCAD</td>\n",
       "      <td>2021-01-31</td>\n",
       "      <td>0.440037</td>\n",
       "    </tr>\n",
       "    <tr>\n",
       "      <th>4</th>\n",
       "      <td>KURS_BCAD</td>\n",
       "      <td>2021-01-31</td>\n",
       "      <td>9.548953</td>\n",
       "    </tr>\n",
       "    <tr>\n",
       "      <th>...</th>\n",
       "      <td>...</td>\n",
       "      <td>...</td>\n",
       "      <td>...</td>\n",
       "    </tr>\n",
       "    <tr>\n",
       "      <th>79</th>\n",
       "      <td>DPOL_IMP_BCAD</td>\n",
       "      <td>2022-02-28</td>\n",
       "      <td>3.235992</td>\n",
       "    </tr>\n",
       "    <tr>\n",
       "      <th>80</th>\n",
       "      <td>GDP_GROWTHYOY_BCAD</td>\n",
       "      <td>2022-02-28</td>\n",
       "      <td>0.000000</td>\n",
       "    </tr>\n",
       "    <tr>\n",
       "      <th>81</th>\n",
       "      <td>INF_YOY_BCAD</td>\n",
       "      <td>2022-02-28</td>\n",
       "      <td>0.720490</td>\n",
       "    </tr>\n",
       "    <tr>\n",
       "      <th>82</th>\n",
       "      <td>KURS_BCAD</td>\n",
       "      <td>2022-02-28</td>\n",
       "      <td>9.572689</td>\n",
       "    </tr>\n",
       "    <tr>\n",
       "      <th>83</th>\n",
       "      <td>OIL_WTI_BCAD</td>\n",
       "      <td>2022-02-28</td>\n",
       "      <td>4.359525</td>\n",
       "    </tr>\n",
       "  </tbody>\n",
       "</table>\n",
       "<p>84 rows × 3 columns</p>\n",
       "</div>"
      ],
      "text/plain": [
       "               me_code  me_period    me_val\n",
       "0               BI7DRR 2021-01-31  1.321756\n",
       "1        DPOL_IMP_BCAD 2021-01-31  0.000000\n",
       "2   GDP_GROWTHYOY_BCAD 2021-01-31  0.000000\n",
       "3         INF_YOY_BCAD 2021-01-31  0.440037\n",
       "4            KURS_BCAD 2021-01-31  9.548953\n",
       "..                 ...        ...       ...\n",
       "79       DPOL_IMP_BCAD 2022-02-28  3.235992\n",
       "80  GDP_GROWTHYOY_BCAD 2022-02-28  0.000000\n",
       "81        INF_YOY_BCAD 2022-02-28  0.720490\n",
       "82           KURS_BCAD 2022-02-28  9.572689\n",
       "83        OIL_WTI_BCAD 2022-02-28  4.359525\n",
       "\n",
       "[84 rows x 3 columns]"
      ]
     },
     "execution_count": 20,
     "metadata": {},
     "output_type": "execute_result"
    }
   ],
   "source": [
    "df['me_val'] = df['me_val'].apply(lambda x: np.log(x) if x > 0 else 0)\n",
    "df"
   ]
  },
  {
   "cell_type": "code",
   "execution_count": 21,
   "metadata": {},
   "outputs": [
    {
     "data": {
      "text/plain": [
       "True"
      ]
     },
     "execution_count": 21,
     "metadata": {},
     "output_type": "execute_result"
    }
   ],
   "source": [
    "#CREATE OUTPUT TABLE\n",
    "\n",
    "create_output_table_query = '''\n",
    "CREATE TABLE IF NOT EXISTS log_mev_table (\n",
    "    ME_CODE VARCHAR(50),\n",
    "    ME_PERIOD TIMESTAMP,\n",
    "    ME_VAL DOUBLE PRECISION\n",
    ");\n",
    "'''\n",
    "\n",
    "database.execute_dml(create_output_table_query)"
   ]
  },
  {
   "cell_type": "code",
   "execution_count": null,
   "metadata": {},
   "outputs": [
    {
     "name": "stdout",
     "output_type": "stream",
     "text": [
      "Data copied successfully!\n"
     ]
    }
   ],
   "source": [
    "#COPY XLSX INTO DB\n",
    "database.copy_from_dataframe(df, \"log_mev_table\")"
   ]
  },
  {
   "cell_type": "code",
   "execution_count": 23,
   "metadata": {},
   "outputs": [
    {
     "data": {
      "text/html": [
       "<div>\n",
       "<style scoped>\n",
       "    .dataframe tbody tr th:only-of-type {\n",
       "        vertical-align: middle;\n",
       "    }\n",
       "\n",
       "    .dataframe tbody tr th {\n",
       "        vertical-align: top;\n",
       "    }\n",
       "\n",
       "    .dataframe thead th {\n",
       "        text-align: right;\n",
       "    }\n",
       "</style>\n",
       "<table border=\"1\" class=\"dataframe\">\n",
       "  <thead>\n",
       "    <tr style=\"text-align: right;\">\n",
       "      <th></th>\n",
       "      <th>me_code</th>\n",
       "      <th>me_period</th>\n",
       "      <th>me_val</th>\n",
       "    </tr>\n",
       "  </thead>\n",
       "  <tbody>\n",
       "    <tr>\n",
       "      <th>0</th>\n",
       "      <td>BI7DRR</td>\n",
       "      <td>2021-01-31</td>\n",
       "      <td>1.321756</td>\n",
       "    </tr>\n",
       "    <tr>\n",
       "      <th>1</th>\n",
       "      <td>DPOL_IMP_BCAD</td>\n",
       "      <td>2021-01-31</td>\n",
       "      <td>0.000000</td>\n",
       "    </tr>\n",
       "    <tr>\n",
       "      <th>2</th>\n",
       "      <td>GDP_GROWTHYOY_BCAD</td>\n",
       "      <td>2021-01-31</td>\n",
       "      <td>0.000000</td>\n",
       "    </tr>\n",
       "    <tr>\n",
       "      <th>3</th>\n",
       "      <td>INF_YOY_BCAD</td>\n",
       "      <td>2021-01-31</td>\n",
       "      <td>0.440037</td>\n",
       "    </tr>\n",
       "    <tr>\n",
       "      <th>4</th>\n",
       "      <td>KURS_BCAD</td>\n",
       "      <td>2021-01-31</td>\n",
       "      <td>9.548953</td>\n",
       "    </tr>\n",
       "    <tr>\n",
       "      <th>...</th>\n",
       "      <td>...</td>\n",
       "      <td>...</td>\n",
       "      <td>...</td>\n",
       "    </tr>\n",
       "    <tr>\n",
       "      <th>79</th>\n",
       "      <td>DPOL_IMP_BCAD</td>\n",
       "      <td>2022-02-28</td>\n",
       "      <td>3.235992</td>\n",
       "    </tr>\n",
       "    <tr>\n",
       "      <th>80</th>\n",
       "      <td>GDP_GROWTHYOY_BCAD</td>\n",
       "      <td>2022-02-28</td>\n",
       "      <td>0.000000</td>\n",
       "    </tr>\n",
       "    <tr>\n",
       "      <th>81</th>\n",
       "      <td>INF_YOY_BCAD</td>\n",
       "      <td>2022-02-28</td>\n",
       "      <td>0.720490</td>\n",
       "    </tr>\n",
       "    <tr>\n",
       "      <th>82</th>\n",
       "      <td>KURS_BCAD</td>\n",
       "      <td>2022-02-28</td>\n",
       "      <td>9.572689</td>\n",
       "    </tr>\n",
       "    <tr>\n",
       "      <th>83</th>\n",
       "      <td>OIL_WTI_BCAD</td>\n",
       "      <td>2022-02-28</td>\n",
       "      <td>4.359525</td>\n",
       "    </tr>\n",
       "  </tbody>\n",
       "</table>\n",
       "<p>84 rows × 3 columns</p>\n",
       "</div>"
      ],
      "text/plain": [
       "               me_code  me_period    me_val\n",
       "0               BI7DRR 2021-01-31  1.321756\n",
       "1        DPOL_IMP_BCAD 2021-01-31  0.000000\n",
       "2   GDP_GROWTHYOY_BCAD 2021-01-31  0.000000\n",
       "3         INF_YOY_BCAD 2021-01-31  0.440037\n",
       "4            KURS_BCAD 2021-01-31  9.548953\n",
       "..                 ...        ...       ...\n",
       "79       DPOL_IMP_BCAD 2022-02-28  3.235992\n",
       "80  GDP_GROWTHYOY_BCAD 2022-02-28  0.000000\n",
       "81        INF_YOY_BCAD 2022-02-28  0.720490\n",
       "82           KURS_BCAD 2022-02-28  9.572689\n",
       "83        OIL_WTI_BCAD 2022-02-28  4.359525\n",
       "\n",
       "[84 rows x 3 columns]"
      ]
     },
     "execution_count": 23,
     "metadata": {},
     "output_type": "execute_result"
    }
   ],
   "source": [
    "#SELECT MEV_TABLE\n",
    "rows, columns = database.execute_dql('SELECT * FROM log_mev_table;')\n",
    "\n",
    "df = pd.DataFrame(rows, columns=columns)\n",
    "df"
   ]
  }
 ],
 "metadata": {
  "kernelspec": {
   "display_name": "Python 3",
   "language": "python",
   "name": "python3"
  },
  "language_info": {
   "codemirror_mode": {
    "name": "ipython",
    "version": 3
   },
   "file_extension": ".py",
   "mimetype": "text/x-python",
   "name": "python",
   "nbconvert_exporter": "python",
   "pygments_lexer": "ipython3",
   "version": "3.9.13"
  }
 },
 "nbformat": 4,
 "nbformat_minor": 2
}
